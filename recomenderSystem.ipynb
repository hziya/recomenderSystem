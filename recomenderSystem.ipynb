{
  "nbformat": 4,
  "nbformat_minor": 0,
  "metadata": {
    "colab": {
      "name": "parse_and_clean_meta_data.ipynb adlı not defterinin kopyası",
      "provenance": [],
      "collapsed_sections": []
    },
    "kernelspec": {
      "name": "python3",
      "display_name": "Python 3"
    }
  },
  "cells": [
    {
      "cell_type": "code",
      "metadata": {
        "id": "f5NDXrN2CtH7"
      },
      "source": [
        "import os\n",
        "import json\n",
        "import gzip\n",
        "import pandas as pd\n",
        "from urllib.request import urlopen\n",
        "from sklearn.model_selection import train_test_split\n",
        "import tensorflow.compat.v1 as tf\n",
        "import numpy as np\n",
        "import math\n",
        "import heapq\n",
        "from tqdm import tqdm\n",
        "import random"
      ],
      "execution_count": 2,
      "outputs": []
    },
    {
      "cell_type": "code",
      "metadata": {
        "id": "feWoOrmt4Tja",
        "colab": {
          "base_uri": "https://localhost:8080/"
        },
        "outputId": "fb21ea6d-b21c-48d0-d9f7-4bbc38050b01"
      },
      "source": [
        "!wget http://deepyeti.ucsd.edu/jianmo/amazon/categoryFilesSmall/Digital_Music_5.json.gz"
      ],
      "execution_count": 3,
      "outputs": [
        {
          "output_type": "stream",
          "name": "stdout",
          "text": [
            "--2022-05-06 20:57:42--  http://deepyeti.ucsd.edu/jianmo/amazon/categoryFilesSmall/Digital_Music_5.json.gz\n",
            "Resolving deepyeti.ucsd.edu (deepyeti.ucsd.edu)... 169.228.63.50\n",
            "Connecting to deepyeti.ucsd.edu (deepyeti.ucsd.edu)|169.228.63.50|:80... connected.\n",
            "HTTP request sent, awaiting response... 200 OK\n",
            "Length: 19408584 (19M) [application/octet-stream]\n",
            "Saving to: ‘Digital_Music_5.json.gz.3’\n",
            "\n",
            "Digital_Music_5.jso 100%[===================>]  18.51M  27.8MB/s    in 0.7s    \n",
            "\n",
            "2022-05-06 20:57:43 (27.8 MB/s) - ‘Digital_Music_5.json.gz.3’ saved [19408584/19408584]\n",
            "\n"
          ]
        }
      ]
    },
    {
      "cell_type": "markdown",
      "source": [
        "I used Amazon music review dataset. This script is also build on the given example for dataset "
      ],
      "metadata": {
        "id": "Z2WGRzhGN8z8"
      }
    },
    {
      "cell_type": "code",
      "metadata": {
        "id": "7igYuRaV4bF7",
        "colab": {
          "base_uri": "https://localhost:8080/"
        },
        "outputId": "d521fe24-2374-4872-912a-8bced9359bf4"
      },
      "source": [
        "### load the meta data\n",
        "\n",
        "data = []\n",
        "with gzip.open('Digital_Music_5.json.gz') as f:\n",
        "    for l in f:\n",
        "        data.append(json.loads(l.strip()))\n",
        "    \n",
        "# total length of list, this number equals total number of products\n",
        "print(len(data))\n",
        "\n",
        "# first row of the list\n",
        "print(data[0])"
      ],
      "execution_count": 4,
      "outputs": [
        {
          "output_type": "stream",
          "name": "stdout",
          "text": [
            "169781\n",
            "{'overall': 5.0, 'vote': '3', 'verified': True, 'reviewTime': '06 3, 2013', 'reviewerID': 'A2TYZ821XXK2YZ', 'asin': '3426958910', 'style': {'Format:': ' Audio CD'}, 'reviewerName': 'Garrett', 'reviewText': 'This is awesome to listen to, A must-have for all Slayer fans..sadly needed to be a triple disc set..They have so many hits!!', 'summary': 'Slayer Rules!', 'unixReviewTime': 1370217600}\n"
          ]
        }
      ]
    },
    {
      "cell_type": "code",
      "metadata": {
        "id": "knpHP22w4scK",
        "colab": {
          "base_uri": "https://localhost:8080/"
        },
        "outputId": "da1e9e16-e6a5-4590-a945-4c52476d8668"
      },
      "source": [
        "# convert list into pandas dataframe\n",
        "\n",
        "df = pd.DataFrame.from_dict(data)\n",
        "\n",
        "print(len(df))"
      ],
      "execution_count": 5,
      "outputs": [
        {
          "output_type": "stream",
          "name": "stdout",
          "text": [
            "169781\n"
          ]
        }
      ]
    },
    {
      "cell_type": "code",
      "source": [
        "df.head()"
      ],
      "metadata": {
        "colab": {
          "base_uri": "https://localhost:8080/",
          "height": 407
        },
        "id": "3SS_uX2yjJ1D",
        "outputId": "b936e754-7d6a-4ba4-b656-a391fb230f9f"
      },
      "execution_count": 6,
      "outputs": [
        {
          "output_type": "execute_result",
          "data": {
            "text/plain": [
              "   overall vote  verified   reviewTime      reviewerID        asin  \\\n",
              "0      5.0    3      True   06 3, 2013  A2TYZ821XXK2YZ  3426958910   \n",
              "1      5.0  NaN      True  10 11, 2014  A3OFSREZADFUDY  3426958910   \n",
              "2      5.0  NaN      True  02 11, 2014  A2VAMODP8M77NG  3426958910   \n",
              "3      4.0    3     False   12 7, 2013   AAKSLZ9IDTEH0  3426958910   \n",
              "4      5.0  NaN      True  06 12, 2016  A3OH43OZJLKI09  5557706259   \n",
              "\n",
              "                      style       reviewerName  \\\n",
              "0  {'Format:': ' Audio CD'}            Garrett   \n",
              "1  {'Format:': ' Audio CD'}                 Ad   \n",
              "2  {'Format:': ' Audio CD'}             JTGabq   \n",
              "3  {'Format:': ' Audio CD'}  john F&#039;n doe   \n",
              "4  {'Format:': ' Audio CD'}  melinda a goodman   \n",
              "\n",
              "                                          reviewText  \\\n",
              "0  This is awesome to listen to, A must-have for ...   \n",
              "1                                               bien   \n",
              "2  It was great to hear the old stuff again and I...   \n",
              "3  well best of's are a bit poison normally but t...   \n",
              "4  What can I say? This is Casting Crowns!!!This ...   \n",
              "\n",
              "                                             summary  unixReviewTime image  \n",
              "0                                      Slayer Rules!      1370217600   NaN  \n",
              "1                                         Five Stars      1412985600   NaN  \n",
              "2                        SLAYER!!!!!!!!!!!!!!!!!!!!!      1392076800   NaN  \n",
              "3  slayer greatest hits! you mean everything righ...      1386374400   NaN  \n",
              "4                    This is a good, blessing filled      1465689600   NaN  "
            ],
            "text/html": [
              "\n",
              "  <div id=\"df-f97ea11c-dd05-499a-98d1-c2d6f63be3b2\">\n",
              "    <div class=\"colab-df-container\">\n",
              "      <div>\n",
              "<style scoped>\n",
              "    .dataframe tbody tr th:only-of-type {\n",
              "        vertical-align: middle;\n",
              "    }\n",
              "\n",
              "    .dataframe tbody tr th {\n",
              "        vertical-align: top;\n",
              "    }\n",
              "\n",
              "    .dataframe thead th {\n",
              "        text-align: right;\n",
              "    }\n",
              "</style>\n",
              "<table border=\"1\" class=\"dataframe\">\n",
              "  <thead>\n",
              "    <tr style=\"text-align: right;\">\n",
              "      <th></th>\n",
              "      <th>overall</th>\n",
              "      <th>vote</th>\n",
              "      <th>verified</th>\n",
              "      <th>reviewTime</th>\n",
              "      <th>reviewerID</th>\n",
              "      <th>asin</th>\n",
              "      <th>style</th>\n",
              "      <th>reviewerName</th>\n",
              "      <th>reviewText</th>\n",
              "      <th>summary</th>\n",
              "      <th>unixReviewTime</th>\n",
              "      <th>image</th>\n",
              "    </tr>\n",
              "  </thead>\n",
              "  <tbody>\n",
              "    <tr>\n",
              "      <th>0</th>\n",
              "      <td>5.0</td>\n",
              "      <td>3</td>\n",
              "      <td>True</td>\n",
              "      <td>06 3, 2013</td>\n",
              "      <td>A2TYZ821XXK2YZ</td>\n",
              "      <td>3426958910</td>\n",
              "      <td>{'Format:': ' Audio CD'}</td>\n",
              "      <td>Garrett</td>\n",
              "      <td>This is awesome to listen to, A must-have for ...</td>\n",
              "      <td>Slayer Rules!</td>\n",
              "      <td>1370217600</td>\n",
              "      <td>NaN</td>\n",
              "    </tr>\n",
              "    <tr>\n",
              "      <th>1</th>\n",
              "      <td>5.0</td>\n",
              "      <td>NaN</td>\n",
              "      <td>True</td>\n",
              "      <td>10 11, 2014</td>\n",
              "      <td>A3OFSREZADFUDY</td>\n",
              "      <td>3426958910</td>\n",
              "      <td>{'Format:': ' Audio CD'}</td>\n",
              "      <td>Ad</td>\n",
              "      <td>bien</td>\n",
              "      <td>Five Stars</td>\n",
              "      <td>1412985600</td>\n",
              "      <td>NaN</td>\n",
              "    </tr>\n",
              "    <tr>\n",
              "      <th>2</th>\n",
              "      <td>5.0</td>\n",
              "      <td>NaN</td>\n",
              "      <td>True</td>\n",
              "      <td>02 11, 2014</td>\n",
              "      <td>A2VAMODP8M77NG</td>\n",
              "      <td>3426958910</td>\n",
              "      <td>{'Format:': ' Audio CD'}</td>\n",
              "      <td>JTGabq</td>\n",
              "      <td>It was great to hear the old stuff again and I...</td>\n",
              "      <td>SLAYER!!!!!!!!!!!!!!!!!!!!!</td>\n",
              "      <td>1392076800</td>\n",
              "      <td>NaN</td>\n",
              "    </tr>\n",
              "    <tr>\n",
              "      <th>3</th>\n",
              "      <td>4.0</td>\n",
              "      <td>3</td>\n",
              "      <td>False</td>\n",
              "      <td>12 7, 2013</td>\n",
              "      <td>AAKSLZ9IDTEH0</td>\n",
              "      <td>3426958910</td>\n",
              "      <td>{'Format:': ' Audio CD'}</td>\n",
              "      <td>john F&amp;#039;n doe</td>\n",
              "      <td>well best of's are a bit poison normally but t...</td>\n",
              "      <td>slayer greatest hits! you mean everything righ...</td>\n",
              "      <td>1386374400</td>\n",
              "      <td>NaN</td>\n",
              "    </tr>\n",
              "    <tr>\n",
              "      <th>4</th>\n",
              "      <td>5.0</td>\n",
              "      <td>NaN</td>\n",
              "      <td>True</td>\n",
              "      <td>06 12, 2016</td>\n",
              "      <td>A3OH43OZJLKI09</td>\n",
              "      <td>5557706259</td>\n",
              "      <td>{'Format:': ' Audio CD'}</td>\n",
              "      <td>melinda a goodman</td>\n",
              "      <td>What can I say? This is Casting Crowns!!!This ...</td>\n",
              "      <td>This is a good, blessing filled</td>\n",
              "      <td>1465689600</td>\n",
              "      <td>NaN</td>\n",
              "    </tr>\n",
              "  </tbody>\n",
              "</table>\n",
              "</div>\n",
              "      <button class=\"colab-df-convert\" onclick=\"convertToInteractive('df-f97ea11c-dd05-499a-98d1-c2d6f63be3b2')\"\n",
              "              title=\"Convert this dataframe to an interactive table.\"\n",
              "              style=\"display:none;\">\n",
              "        \n",
              "  <svg xmlns=\"http://www.w3.org/2000/svg\" height=\"24px\"viewBox=\"0 0 24 24\"\n",
              "       width=\"24px\">\n",
              "    <path d=\"M0 0h24v24H0V0z\" fill=\"none\"/>\n",
              "    <path d=\"M18.56 5.44l.94 2.06.94-2.06 2.06-.94-2.06-.94-.94-2.06-.94 2.06-2.06.94zm-11 1L8.5 8.5l.94-2.06 2.06-.94-2.06-.94L8.5 2.5l-.94 2.06-2.06.94zm10 10l.94 2.06.94-2.06 2.06-.94-2.06-.94-.94-2.06-.94 2.06-2.06.94z\"/><path d=\"M17.41 7.96l-1.37-1.37c-.4-.4-.92-.59-1.43-.59-.52 0-1.04.2-1.43.59L10.3 9.45l-7.72 7.72c-.78.78-.78 2.05 0 2.83L4 21.41c.39.39.9.59 1.41.59.51 0 1.02-.2 1.41-.59l7.78-7.78 2.81-2.81c.8-.78.8-2.07 0-2.86zM5.41 20L4 18.59l7.72-7.72 1.47 1.35L5.41 20z\"/>\n",
              "  </svg>\n",
              "      </button>\n",
              "      \n",
              "  <style>\n",
              "    .colab-df-container {\n",
              "      display:flex;\n",
              "      flex-wrap:wrap;\n",
              "      gap: 12px;\n",
              "    }\n",
              "\n",
              "    .colab-df-convert {\n",
              "      background-color: #E8F0FE;\n",
              "      border: none;\n",
              "      border-radius: 50%;\n",
              "      cursor: pointer;\n",
              "      display: none;\n",
              "      fill: #1967D2;\n",
              "      height: 32px;\n",
              "      padding: 0 0 0 0;\n",
              "      width: 32px;\n",
              "    }\n",
              "\n",
              "    .colab-df-convert:hover {\n",
              "      background-color: #E2EBFA;\n",
              "      box-shadow: 0px 1px 2px rgba(60, 64, 67, 0.3), 0px 1px 3px 1px rgba(60, 64, 67, 0.15);\n",
              "      fill: #174EA6;\n",
              "    }\n",
              "\n",
              "    [theme=dark] .colab-df-convert {\n",
              "      background-color: #3B4455;\n",
              "      fill: #D2E3FC;\n",
              "    }\n",
              "\n",
              "    [theme=dark] .colab-df-convert:hover {\n",
              "      background-color: #434B5C;\n",
              "      box-shadow: 0px 1px 3px 1px rgba(0, 0, 0, 0.15);\n",
              "      filter: drop-shadow(0px 1px 2px rgba(0, 0, 0, 0.3));\n",
              "      fill: #FFFFFF;\n",
              "    }\n",
              "  </style>\n",
              "\n",
              "      <script>\n",
              "        const buttonEl =\n",
              "          document.querySelector('#df-f97ea11c-dd05-499a-98d1-c2d6f63be3b2 button.colab-df-convert');\n",
              "        buttonEl.style.display =\n",
              "          google.colab.kernel.accessAllowed ? 'block' : 'none';\n",
              "\n",
              "        async function convertToInteractive(key) {\n",
              "          const element = document.querySelector('#df-f97ea11c-dd05-499a-98d1-c2d6f63be3b2');\n",
              "          const dataTable =\n",
              "            await google.colab.kernel.invokeFunction('convertToInteractive',\n",
              "                                                     [key], {});\n",
              "          if (!dataTable) return;\n",
              "\n",
              "          const docLinkHtml = 'Like what you see? Visit the ' +\n",
              "            '<a target=\"_blank\" href=https://colab.research.google.com/notebooks/data_table.ipynb>data table notebook</a>'\n",
              "            + ' to learn more about interactive tables.';\n",
              "          element.innerHTML = '';\n",
              "          dataTable['output_type'] = 'display_data';\n",
              "          await google.colab.output.renderOutput(dataTable, element);\n",
              "          const docLink = document.createElement('div');\n",
              "          docLink.innerHTML = docLinkHtml;\n",
              "          element.appendChild(docLink);\n",
              "        }\n",
              "      </script>\n",
              "    </div>\n",
              "  </div>\n",
              "  "
            ]
          },
          "metadata": {},
          "execution_count": 6
        }
      ]
    },
    {
      "cell_type": "code",
      "source": [
        "# convert ids to numbers\n",
        "df['reviewer_id_number'] = df['reviewerID'].astype(\"category\").cat.codes\n",
        "df['item_id_number'] = df['asin'].astype(\"category\").cat.codes"
      ],
      "metadata": {
        "id": "ht6zRrGnl-a8"
      },
      "execution_count": 7,
      "outputs": []
    },
    {
      "cell_type": "code",
      "source": [
        "# create lookups\n",
        "item_lookup = df[['item_id_number', 'asin']].drop_duplicates()\n",
        "item_lookup['item_id_number'] = item_lookup.item_id_number.astype(str)\n",
        "\n",
        "reviewer_lookup = df[['reviewer_id_number', 'reviewerID']].drop_duplicates()\n",
        "reviewer_lookup['reviewer_id_number'] = reviewer_lookup.reviewer_id_number.astype(str)"
      ],
      "metadata": {
        "id": "g70-SwZ-swXp"
      },
      "execution_count": 8,
      "outputs": []
    },
    {
      "cell_type": "code",
      "source": [
        "# drop unnecessary columns\n",
        "df =df [[\"reviewer_id_number\", \"item_id_number\", \"overall\"]]"
      ],
      "metadata": {
        "id": "iFzTQZpOt16j"
      },
      "execution_count": 9,
      "outputs": []
    },
    {
      "cell_type": "code",
      "source": [
        "# Create training and test sets.\n",
        "df_train, df_test = train_test_split(df)"
      ],
      "metadata": {
        "id": "IiV5Z1dRugoB"
      },
      "execution_count": 10,
      "outputs": []
    },
    {
      "cell_type": "code",
      "source": [
        "# Create lists of all unique users and artists\n",
        "reviewers = list(np.sort(df.reviewer_id_number.unique()))\n",
        "items = list(np.sort(df.item_id_number.unique()))\n"
      ],
      "metadata": {
        "id": "VU3RTaHyqh-q"
      },
      "execution_count": 11,
      "outputs": []
    },
    {
      "cell_type": "code",
      "source": [
        "# Get the rows, columns and values for our matrix.\n",
        "rows = df.reviewer_id_number.astype(int)\n",
        "cols = df.item_id_number.astype(int)\n",
        "\n",
        "values = list(df_train.overall)\n",
        "\n",
        "# Get all user ids and item ids.\n",
        "rids = np.array(rows.tolist())\n",
        "iids = np.array(cols.tolist())\n",
        "zipped = set(zip(rids, iids))"
      ],
      "metadata": {
        "id": "zF4f8jlCyRZ7"
      },
      "execution_count": 38,
      "outputs": []
    },
    {
      "cell_type": "code",
      "source": [
        "from tensorflow.keras.models import Sequential\n",
        "from tensorflow.keras.layers import Dense\n",
        "from tensorflow import keras\n",
        "from tensorflow.keras import layers\n",
        "from tensorflow.keras import activations\n"
      ],
      "metadata": {
        "id": "DpEam5Md8FGi"
      },
      "execution_count": 14,
      "outputs": []
    },
    {
      "cell_type": "code",
      "source": [
        "# Create the model\n",
        "reviewer_input = keras.Input(shape =(None,1))\n",
        "item_input = keras.Input(shape =(None,1))\n",
        "\n",
        "reviewer_embedded = tf.keras.layers.Embedding(200000, 1000, input_length=1)(reviewer_input)\n",
        "item_embedded = tf.keras.layers.Embedding(200000, 1000, input_length=1)(item_input)\n",
        "x = keras.layers.Concatenate()([reviewer_embedded, item_embedded])\n",
        "x = layers.Dense(300, activation=activations.relu)(x)\n",
        "x = layers.Dense(100, activation=activations.relu)(x)\n",
        "x = layers.Dense(50, activation=activations.relu)(x)\n",
        "y = layers.Dense(1)(x)\n",
        "\n",
        "model = keras.Model(inputs=[reviewer_input, item_input] , outputs=y)"
      ],
      "metadata": {
        "id": "FavnqDkM8FJp"
      },
      "execution_count": 15,
      "outputs": []
    },
    {
      "cell_type": "markdown",
      "source": [
        "There are some hyperparameters for the model. I choose them using my own previous knowledge. I decrease the dense layers step by step to one. \n",
        "\n",
        "These parameters are also can be optimized using hyperparameter tunning implementations like sklearn.model_selection.GridSearchCV. But these methods takes too much time and computational power. So they are not always feasible."
      ],
      "metadata": {
        "id": "8la9pKgvN6ie"
      }
    },
    {
      "cell_type": "code",
      "source": [
        "model.compile(loss=tf.keras.losses.MeanSquaredError(), optimizer='adam', metrics=tf.keras.metrics.MeanSquaredError())\n",
        "model.fit([df_train[[\"reviewer_id_number\"]].to_numpy(),df_train[[\"item_id_number\"]].to_numpy()], df_train[[ \"overall\"]].to_numpy(), epochs=2, batch_size=1000, verbose=1, validation_split=0.2)"
      ],
      "metadata": {
        "colab": {
          "base_uri": "https://localhost:8080/"
        },
        "id": "1_Pok8mT8FMV",
        "outputId": "43b606b6-e84f-49be-9518-0ab2e7b3f707"
      },
      "execution_count": 17,
      "outputs": [
        {
          "output_type": "stream",
          "name": "stdout",
          "text": [
            "Epoch 1/2\n",
            "102/102 [==============================] - 615s 6s/step - loss: 0.5525 - mean_squared_error: 0.5525 - val_loss: 0.5385 - val_mean_squared_error: 0.5387\n",
            "Epoch 2/2\n",
            "102/102 [==============================] - 563s 5s/step - loss: 0.5371 - mean_squared_error: 0.5372 - val_loss: 0.5290 - val_mean_squared_error: 0.5292\n"
          ]
        },
        {
          "output_type": "execute_result",
          "data": {
            "text/plain": [
              "<keras.callbacks.History at 0x7f6461617290>"
            ]
          },
          "metadata": {},
          "execution_count": 17
        }
      ]
    },
    {
      "cell_type": "markdown",
      "source": [
        "I used mean square error as loss function. Since I am trying to predict review rating mean square error is reasonably between true ratings and predicted ratings."
      ],
      "metadata": {
        "id": "ine5hf5iT-HT"
      }
    },
    {
      "cell_type": "code",
      "source": [
        "model.evaluate([df_test[[\"reviewer_id_number\"]].to_numpy(),df_test[[\"item_id_number\"]].to_numpy()], df_test[[ \"overall\"]].to_numpy())"
      ],
      "metadata": {
        "colab": {
          "base_uri": "https://localhost:8080/"
        },
        "id": "l4FQ7KtC8FPi",
        "outputId": "2d459e53-ad8e-4bda-975b-111a0b613d6c"
      },
      "execution_count": 18,
      "outputs": [
        {
          "output_type": "stream",
          "name": "stdout",
          "text": [
            "1327/1327 [==============================] - 6s 4ms/step - loss: 0.5115 - mean_squared_error: 0.5113\n"
          ]
        },
        {
          "output_type": "execute_result",
          "data": {
            "text/plain": [
              "[0.5114557147026062, 0.5113393664360046]"
            ]
          },
          "metadata": {},
          "execution_count": 18
        }
      ]
    },
    {
      "cell_type": "code",
      "source": [
        "predictionForReviewer = pd.DataFrame(items)\n",
        "predictionForReviewer.rename(columns = {0:\"item_id_number\"}, inplace = True)\n",
        "predictionForReviewer[\"reviewer_id_number\"] = 1\n",
        "predictionForReviewer.head()"
      ],
      "metadata": {
        "colab": {
          "base_uri": "https://localhost:8080/",
          "height": 206
        },
        "id": "3ip-fkMKGSNy",
        "outputId": "f1c18a36-f634-4cae-ee31-f1b74388ef1b"
      },
      "execution_count": 19,
      "outputs": [
        {
          "output_type": "execute_result",
          "data": {
            "text/plain": [
              "   item_id_number  reviewer_id_number\n",
              "0               0                   1\n",
              "1               1                   1\n",
              "2               2                   1\n",
              "3               3                   1\n",
              "4               4                   1"
            ],
            "text/html": [
              "\n",
              "  <div id=\"df-dc5764c9-7419-48e4-bd74-4b6f8a46a5f5\">\n",
              "    <div class=\"colab-df-container\">\n",
              "      <div>\n",
              "<style scoped>\n",
              "    .dataframe tbody tr th:only-of-type {\n",
              "        vertical-align: middle;\n",
              "    }\n",
              "\n",
              "    .dataframe tbody tr th {\n",
              "        vertical-align: top;\n",
              "    }\n",
              "\n",
              "    .dataframe thead th {\n",
              "        text-align: right;\n",
              "    }\n",
              "</style>\n",
              "<table border=\"1\" class=\"dataframe\">\n",
              "  <thead>\n",
              "    <tr style=\"text-align: right;\">\n",
              "      <th></th>\n",
              "      <th>item_id_number</th>\n",
              "      <th>reviewer_id_number</th>\n",
              "    </tr>\n",
              "  </thead>\n",
              "  <tbody>\n",
              "    <tr>\n",
              "      <th>0</th>\n",
              "      <td>0</td>\n",
              "      <td>1</td>\n",
              "    </tr>\n",
              "    <tr>\n",
              "      <th>1</th>\n",
              "      <td>1</td>\n",
              "      <td>1</td>\n",
              "    </tr>\n",
              "    <tr>\n",
              "      <th>2</th>\n",
              "      <td>2</td>\n",
              "      <td>1</td>\n",
              "    </tr>\n",
              "    <tr>\n",
              "      <th>3</th>\n",
              "      <td>3</td>\n",
              "      <td>1</td>\n",
              "    </tr>\n",
              "    <tr>\n",
              "      <th>4</th>\n",
              "      <td>4</td>\n",
              "      <td>1</td>\n",
              "    </tr>\n",
              "  </tbody>\n",
              "</table>\n",
              "</div>\n",
              "      <button class=\"colab-df-convert\" onclick=\"convertToInteractive('df-dc5764c9-7419-48e4-bd74-4b6f8a46a5f5')\"\n",
              "              title=\"Convert this dataframe to an interactive table.\"\n",
              "              style=\"display:none;\">\n",
              "        \n",
              "  <svg xmlns=\"http://www.w3.org/2000/svg\" height=\"24px\"viewBox=\"0 0 24 24\"\n",
              "       width=\"24px\">\n",
              "    <path d=\"M0 0h24v24H0V0z\" fill=\"none\"/>\n",
              "    <path d=\"M18.56 5.44l.94 2.06.94-2.06 2.06-.94-2.06-.94-.94-2.06-.94 2.06-2.06.94zm-11 1L8.5 8.5l.94-2.06 2.06-.94-2.06-.94L8.5 2.5l-.94 2.06-2.06.94zm10 10l.94 2.06.94-2.06 2.06-.94-2.06-.94-.94-2.06-.94 2.06-2.06.94z\"/><path d=\"M17.41 7.96l-1.37-1.37c-.4-.4-.92-.59-1.43-.59-.52 0-1.04.2-1.43.59L10.3 9.45l-7.72 7.72c-.78.78-.78 2.05 0 2.83L4 21.41c.39.39.9.59 1.41.59.51 0 1.02-.2 1.41-.59l7.78-7.78 2.81-2.81c.8-.78.8-2.07 0-2.86zM5.41 20L4 18.59l7.72-7.72 1.47 1.35L5.41 20z\"/>\n",
              "  </svg>\n",
              "      </button>\n",
              "      \n",
              "  <style>\n",
              "    .colab-df-container {\n",
              "      display:flex;\n",
              "      flex-wrap:wrap;\n",
              "      gap: 12px;\n",
              "    }\n",
              "\n",
              "    .colab-df-convert {\n",
              "      background-color: #E8F0FE;\n",
              "      border: none;\n",
              "      border-radius: 50%;\n",
              "      cursor: pointer;\n",
              "      display: none;\n",
              "      fill: #1967D2;\n",
              "      height: 32px;\n",
              "      padding: 0 0 0 0;\n",
              "      width: 32px;\n",
              "    }\n",
              "\n",
              "    .colab-df-convert:hover {\n",
              "      background-color: #E2EBFA;\n",
              "      box-shadow: 0px 1px 2px rgba(60, 64, 67, 0.3), 0px 1px 3px 1px rgba(60, 64, 67, 0.15);\n",
              "      fill: #174EA6;\n",
              "    }\n",
              "\n",
              "    [theme=dark] .colab-df-convert {\n",
              "      background-color: #3B4455;\n",
              "      fill: #D2E3FC;\n",
              "    }\n",
              "\n",
              "    [theme=dark] .colab-df-convert:hover {\n",
              "      background-color: #434B5C;\n",
              "      box-shadow: 0px 1px 3px 1px rgba(0, 0, 0, 0.15);\n",
              "      filter: drop-shadow(0px 1px 2px rgba(0, 0, 0, 0.3));\n",
              "      fill: #FFFFFF;\n",
              "    }\n",
              "  </style>\n",
              "\n",
              "      <script>\n",
              "        const buttonEl =\n",
              "          document.querySelector('#df-dc5764c9-7419-48e4-bd74-4b6f8a46a5f5 button.colab-df-convert');\n",
              "        buttonEl.style.display =\n",
              "          google.colab.kernel.accessAllowed ? 'block' : 'none';\n",
              "\n",
              "        async function convertToInteractive(key) {\n",
              "          const element = document.querySelector('#df-dc5764c9-7419-48e4-bd74-4b6f8a46a5f5');\n",
              "          const dataTable =\n",
              "            await google.colab.kernel.invokeFunction('convertToInteractive',\n",
              "                                                     [key], {});\n",
              "          if (!dataTable) return;\n",
              "\n",
              "          const docLinkHtml = 'Like what you see? Visit the ' +\n",
              "            '<a target=\"_blank\" href=https://colab.research.google.com/notebooks/data_table.ipynb>data table notebook</a>'\n",
              "            + ' to learn more about interactive tables.';\n",
              "          element.innerHTML = '';\n",
              "          dataTable['output_type'] = 'display_data';\n",
              "          await google.colab.output.renderOutput(dataTable, element);\n",
              "          const docLink = document.createElement('div');\n",
              "          docLink.innerHTML = docLinkHtml;\n",
              "          element.appendChild(docLink);\n",
              "        }\n",
              "      </script>\n",
              "    </div>\n",
              "  </div>\n",
              "  "
            ]
          },
          "metadata": {},
          "execution_count": 19
        }
      ]
    },
    {
      "cell_type": "markdown",
      "source": [
        "I run the model for one user and find 5 recomendations for him/her. To decrease the computations, instead of looking for all items we can randomly choose from them."
      ],
      "metadata": {
        "id": "AGTZ1KnsPlTg"
      }
    },
    {
      "cell_type": "code",
      "source": [
        "predictions = model.predict([predictionForReviewer[[\"reviewer_id_number\"]].to_numpy(),predictionForReviewer[[ \"item_id_number\"]].to_numpy()])"
      ],
      "metadata": {
        "id": "X-xMlXKCGGbw"
      },
      "execution_count": 20,
      "outputs": []
    },
    {
      "cell_type": "code",
      "source": [
        "predictionForReviewer[\"predictions\"]= predictions.tolist()"
      ],
      "metadata": {
        "id": "jCKpHlkoHtl8"
      },
      "execution_count": 22,
      "outputs": []
    },
    {
      "cell_type": "code",
      "source": [
        "predictionForReviewer.sort_values(by=['predictions'],ascending=False,ignore_index=True, inplace=True)"
      ],
      "metadata": {
        "id": "Q4oNsz9fICHq"
      },
      "execution_count": 27,
      "outputs": []
    },
    {
      "cell_type": "code",
      "source": [
        "i=0\n",
        "j=0\n",
        "recomendations =[]\n",
        "while(i<5):\n",
        "  while (1,predictionForReviewer.iloc[j][\"item_id_number\"]) in zipped:\n",
        "    j=j+1\n",
        "  recomendations.append(predictionForReviewer.iloc[j][\"item_id_number\"])\n",
        "  i=i+1\n",
        "  j=j+1"
      ],
      "metadata": {
        "id": "MrQvrD0hRCZQ"
      },
      "execution_count": 42,
      "outputs": []
    },
    {
      "cell_type": "code",
      "source": [
        "recomendations"
      ],
      "metadata": {
        "colab": {
          "base_uri": "https://localhost:8080/"
        },
        "id": "YcJc3D2fTDEg",
        "outputId": "92a72ce7-3899-49ed-c61f-51eb013f1ec7"
      },
      "execution_count": 43,
      "outputs": [
        {
          "output_type": "execute_result",
          "data": {
            "text/plain": [
              "[4250, 5674, 665, 10160, 6126]"
            ]
          },
          "metadata": {},
          "execution_count": 43
        }
      ]
    },
    {
      "cell_type": "code",
      "metadata": {
        "id": "WqZcdGp-5cui"
      },
      "source": [
        ""
      ],
      "execution_count": null,
      "outputs": []
    },
    {
      "cell_type": "markdown",
      "source": [
        "For further improvements, first user-item pairs without review can be add as negative review. Thus, model will have the knowledge of which items are reviewed which are not. Right now it only uses the given ratings information so in a way every other item is assumed to be given average rating of the user.\n",
        "\n",
        "Another improvement could be combining this model with matrix factorization."
      ],
      "metadata": {
        "id": "uwIX23sjP_xR"
      }
    }
  ]
}